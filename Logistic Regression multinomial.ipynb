{
 "cells": [
  {
   "cell_type": "code",
   "execution_count": 1,
   "id": "07e24881-ecbc-466a-b482-2a278c1fbe47",
   "metadata": {},
   "outputs": [],
   "source": [
    "import pandas as pd\n",
    "import numpy as np\n",
    "import matplotlib.pyplot as plt\n",
    "import seaborn as sns\n",
    "from sklearn.model_selection import train_test_split\n",
    "from sklearn.preprocessing import StandardScaler\n",
    "from sklearn.linear_model import LogisticRegression\n",
    "from sklearn.metrics import accuracy_score, classification_report, confusion_matrix"
   ]
  },
  {
   "cell_type": "code",
   "execution_count": 9,
   "id": "02110c3a-e48c-4d59-9191-ee314242359f",
   "metadata": {},
   "outputs": [
    {
     "data": {
      "text/html": [
       "<div>\n",
       "<style scoped>\n",
       "    .dataframe tbody tr th:only-of-type {\n",
       "        vertical-align: middle;\n",
       "    }\n",
       "\n",
       "    .dataframe tbody tr th {\n",
       "        vertical-align: top;\n",
       "    }\n",
       "\n",
       "    .dataframe thead th {\n",
       "        text-align: right;\n",
       "    }\n",
       "</style>\n",
       "<table border=\"1\" class=\"dataframe\">\n",
       "  <thead>\n",
       "    <tr style=\"text-align: right;\">\n",
       "      <th></th>\n",
       "      <th>temporada</th>\n",
       "      <th>torneo</th>\n",
       "      <th>posicion</th>\n",
       "      <th>club</th>\n",
       "      <th>jj</th>\n",
       "      <th>jg</th>\n",
       "      <th>je</th>\n",
       "      <th>jp</th>\n",
       "      <th>gf</th>\n",
       "      <th>gc</th>\n",
       "      <th>...</th>\n",
       "      <th>dif2</th>\n",
       "      <th>pts2</th>\n",
       "      <th>jj3</th>\n",
       "      <th>jg3</th>\n",
       "      <th>je3</th>\n",
       "      <th>jp3</th>\n",
       "      <th>gf3</th>\n",
       "      <th>gc3</th>\n",
       "      <th>dif3</th>\n",
       "      <th>pts3</th>\n",
       "    </tr>\n",
       "  </thead>\n",
       "  <tbody>\n",
       "    <tr>\n",
       "      <th>0</th>\n",
       "      <td>2019-2020</td>\n",
       "      <td>Apertura</td>\n",
       "      <td>19</td>\n",
       "      <td>Necaxa</td>\n",
       "      <td>18</td>\n",
       "      <td>1</td>\n",
       "      <td>3</td>\n",
       "      <td>14</td>\n",
       "      <td>6</td>\n",
       "      <td>35</td>\n",
       "      <td>...</td>\n",
       "      <td>-9</td>\n",
       "      <td>5</td>\n",
       "      <td>9</td>\n",
       "      <td>0</td>\n",
       "      <td>1</td>\n",
       "      <td>8</td>\n",
       "      <td>0</td>\n",
       "      <td>20</td>\n",
       "      <td>-20</td>\n",
       "      <td>1</td>\n",
       "    </tr>\n",
       "    <tr>\n",
       "      <th>1</th>\n",
       "      <td>2022-2023</td>\n",
       "      <td>Apertura</td>\n",
       "      <td>9</td>\n",
       "      <td>Pumas</td>\n",
       "      <td>17</td>\n",
       "      <td>7</td>\n",
       "      <td>3</td>\n",
       "      <td>7</td>\n",
       "      <td>30</td>\n",
       "      <td>36</td>\n",
       "      <td>...</td>\n",
       "      <td>9</td>\n",
       "      <td>14</td>\n",
       "      <td>9</td>\n",
       "      <td>3</td>\n",
       "      <td>1</td>\n",
       "      <td>5</td>\n",
       "      <td>12</td>\n",
       "      <td>27</td>\n",
       "      <td>-15</td>\n",
       "      <td>10</td>\n",
       "    </tr>\n",
       "    <tr>\n",
       "      <th>2</th>\n",
       "      <td>2018-2019</td>\n",
       "      <td>Apertura</td>\n",
       "      <td>1</td>\n",
       "      <td>Tigres</td>\n",
       "      <td>16</td>\n",
       "      <td>12</td>\n",
       "      <td>4</td>\n",
       "      <td>0</td>\n",
       "      <td>51</td>\n",
       "      <td>19</td>\n",
       "      <td>...</td>\n",
       "      <td>17</td>\n",
       "      <td>18</td>\n",
       "      <td>8</td>\n",
       "      <td>7</td>\n",
       "      <td>1</td>\n",
       "      <td>0</td>\n",
       "      <td>26</td>\n",
       "      <td>11</td>\n",
       "      <td>15</td>\n",
       "      <td>22</td>\n",
       "    </tr>\n",
       "    <tr>\n",
       "      <th>3</th>\n",
       "      <td>2018-2019</td>\n",
       "      <td>Apertura</td>\n",
       "      <td>2</td>\n",
       "      <td>Pachuca</td>\n",
       "      <td>16</td>\n",
       "      <td>12</td>\n",
       "      <td>2</td>\n",
       "      <td>2</td>\n",
       "      <td>31</td>\n",
       "      <td>14</td>\n",
       "      <td>...</td>\n",
       "      <td>10</td>\n",
       "      <td>21</td>\n",
       "      <td>8</td>\n",
       "      <td>5</td>\n",
       "      <td>2</td>\n",
       "      <td>1</td>\n",
       "      <td>16</td>\n",
       "      <td>9</td>\n",
       "      <td>7</td>\n",
       "      <td>17</td>\n",
       "    </tr>\n",
       "    <tr>\n",
       "      <th>4</th>\n",
       "      <td>2018-2019</td>\n",
       "      <td>Apertura</td>\n",
       "      <td>3</td>\n",
       "      <td>América</td>\n",
       "      <td>16</td>\n",
       "      <td>11</td>\n",
       "      <td>2</td>\n",
       "      <td>3</td>\n",
       "      <td>28</td>\n",
       "      <td>12</td>\n",
       "      <td>...</td>\n",
       "      <td>7</td>\n",
       "      <td>18</td>\n",
       "      <td>8</td>\n",
       "      <td>5</td>\n",
       "      <td>2</td>\n",
       "      <td>1</td>\n",
       "      <td>15</td>\n",
       "      <td>6</td>\n",
       "      <td>9</td>\n",
       "      <td>17</td>\n",
       "    </tr>\n",
       "  </tbody>\n",
       "</table>\n",
       "<p>5 rows × 28 columns</p>\n",
       "</div>"
      ],
      "text/plain": [
       "   temporada    torneo  posicion     club  jj  jg  je  jp  gf  gc  ...  dif2  \\\n",
       "0  2019-2020  Apertura        19   Necaxa  18   1   3  14   6  35  ...    -9   \n",
       "1  2022-2023  Apertura         9    Pumas  17   7   3   7  30  36  ...     9   \n",
       "2  2018-2019  Apertura         1   Tigres  16  12   4   0  51  19  ...    17   \n",
       "3  2018-2019  Apertura         2  Pachuca  16  12   2   2  31  14  ...    10   \n",
       "4  2018-2019  Apertura         3  América  16  11   2   3  28  12  ...     7   \n",
       "\n",
       "   pts2  jj3  jg3  je3  jp3  gf3  gc3  dif3  pts3  \n",
       "0     5    9    0    1    8    0   20   -20     1  \n",
       "1    14    9    3    1    5   12   27   -15    10  \n",
       "2    18    8    7    1    0   26   11    15    22  \n",
       "3    21    8    5    2    1   16    9     7    17  \n",
       "4    18    8    5    2    1   15    6     9    17  \n",
       "\n",
       "[5 rows x 28 columns]"
      ]
     },
     "execution_count": 9,
     "metadata": {},
     "output_type": "execute_result"
    }
   ],
   "source": [
    "data = pd.read_csv(r\"C:\\Users\\ShePlay\\Documents\\GitHub\\handson-ml2-master\\handson-ml2-master\\datasets\\lbf\\lbf_historical_stats.csv\")\n",
    "data.head()"
   ]
  },
  {
   "cell_type": "code",
   "execution_count": 13,
   "id": "e7761c3e-d687-4f6f-b696-4c39dedc0524",
   "metadata": {},
   "outputs": [],
   "source": [
    "def classify_rank(position):\n",
    "    if position <= 4:\n",
    "        return 0\n",
    "    elif position <= 14:\n",
    "        return 1\n",
    "    else:\n",
    "        return 2"
   ]
  },
  {
   "cell_type": "code",
   "execution_count": 15,
   "id": "afbb44b4-e1e7-4ded-be9c-de3e775c439f",
   "metadata": {},
   "outputs": [],
   "source": [
    "data['rank_group']=data['posicion'].apply(classify_rank)"
   ]
  },
  {
   "cell_type": "code",
   "execution_count": 17,
   "id": "a64475f0-949c-4eed-9cb6-3850b24e5f96",
   "metadata": {},
   "outputs": [],
   "source": [
    "# Select important features for classification\n",
    "features = ['jj', 'jg', 'je', 'jp', 'gf', 'gc', 'dif']\n",
    "X = data[features]  # Independent variables\n",
    "y = data['rank_group']  # Dependent variable (classification label)"
   ]
  },
  {
   "cell_type": "code",
   "execution_count": 19,
   "id": "2cf4aa02-5f72-4294-9aca-7f0749ca7737",
   "metadata": {},
   "outputs": [],
   "source": [
    "X_train, X_test, y_train, y_test = train_test_split(X, y, test_size=0.2, random_state=42)"
   ]
  },
  {
   "cell_type": "code",
   "execution_count": 21,
   "id": "9c9b6541-fb82-48e4-ae7b-52b0d9635b84",
   "metadata": {},
   "outputs": [],
   "source": [
    "scaler = StandardScaler()\n",
    "X_train = scaler.fit_transform(X_train)\n",
    "X_test = scaler.transform(X_test)"
   ]
  },
  {
   "cell_type": "code",
   "execution_count": 23,
   "id": "5a9f6b4a-2d36-4271-af42-b82976a569db",
   "metadata": {},
   "outputs": [
    {
     "name": "stderr",
     "output_type": "stream",
     "text": [
      "C:\\Users\\ShePlay\\anaconda3\\Lib\\site-packages\\sklearn\\linear_model\\_logistic.py:1247: FutureWarning: 'multi_class' was deprecated in version 1.5 and will be removed in 1.7. From then on, it will always use 'multinomial'. Leave it to its default value to avoid this warning.\n",
      "  warnings.warn(\n"
     ]
    }
   ],
   "source": [
    "# Initialize Logistic Regression model\n",
    "log_reg = LogisticRegression(multi_class='multinomial', solver='lbfgs', max_iter=500)\n",
    "\n",
    "# Train the model\n",
    "log_reg.fit(X_train, y_train)\n",
    "\n",
    "# Make predictions\n",
    "y_pred_log = log_reg.predict(X_test)"
   ]
  },
  {
   "cell_type": "code",
   "execution_count": 25,
   "id": "8348ee42-a161-4f98-b09e-6d63872e4ebc",
   "metadata": {},
   "outputs": [
    {
     "name": "stdout",
     "output_type": "stream",
     "text": [
      "Logistic Regression Accuracy: 0.91\n",
      "\n",
      "Classification Report - Logistic Regression:\n",
      "              precision    recall  f1-score   support\n",
      "\n",
      "           0       0.80      0.80      0.80        10\n",
      "           1       0.92      0.94      0.93        35\n",
      "           2       1.00      0.89      0.94         9\n",
      "\n",
      "    accuracy                           0.91        54\n",
      "   macro avg       0.91      0.88      0.89        54\n",
      "weighted avg       0.91      0.91      0.91        54\n",
      "\n"
     ]
    }
   ],
   "source": [
    "# Calculate accuracy\n",
    "accuracy_log = accuracy_score(y_test, y_pred_log)\n",
    "print(f\"Logistic Regression Accuracy: {accuracy_log:.2f}\")\n",
    "\n",
    "# Classification report\n",
    "print(\"\\nClassification Report - Logistic Regression:\")\n",
    "print(classification_report(y_test, y_pred_log))"
   ]
  },
  {
   "cell_type": "code",
   "execution_count": 27,
   "id": "ce3b430a-0ec6-41aa-9ef8-4cac7a29a6fe",
   "metadata": {},
   "outputs": [
    {
     "data": {
      "image/png": "[encoded data removed]",
      "text/plain": [
       "<Figure size 600x400 with 2 Axes>"
      ]
     },
     "metadata": {},
     "output_type": "display_data"
    }
   ],
   "source": [
    "# Confusion matrix\n",
    "plt.figure(figsize=(6,4))\n",
    "sns.heatmap(confusion_matrix(y_test, y_pred_log), annot=True, fmt='d', cmap='Blues', xticklabels=['Top', 'Mid', 'Bottom'], yticklabels=['Top', 'Mid', 'Bottom'])\n",
    "plt.xlabel(\"Predicted Class\")\n",
    "plt.ylabel(\"Actual Class\")\n",
    "plt.title(\"Confusion Matrix - Logistic Regression\")\n",
    "plt.show()"
   ]
  },
  {
   "cell_type": "code",
   "execution_count": 29,
   "id": "1b20eade-7914-4798-bcad-f0b836eaaf73",
   "metadata": {},
   "outputs": [
    {
     "name": "stdout",
     "output_type": "stream",
     "text": [
      "Random Forest Accuracy: 0.89\n",
      "\n",
      "Classification Report - Random Forest:\n",
      "              precision    recall  f1-score   support\n",
      "\n",
      "           0       0.82      0.90      0.86        10\n",
      "           1       0.91      0.91      0.91        35\n",
      "           2       0.88      0.78      0.82         9\n",
      "\n",
      "    accuracy                           0.89        54\n",
      "   macro avg       0.87      0.86      0.86        54\n",
      "weighted avg       0.89      0.89      0.89        54\n",
      "\n"
     ]
    },
    {
     "data": {
      "image/png": "[encoded data removed]",
      "text/plain": [
       "<Figure size 600x400 with 2 Axes>"
      ]
     },
     "metadata": {},
     "output_type": "display_data"
    },
    {
     "name": "stdout",
     "output_type": "stream",
     "text": [
      "\n",
      "Model Comparison:\n",
      "\n",
      "Logistic Regression Accuracy: 0.91\n",
      "Random Forest Accuracy: 0.89\n"
     ]
    }
   ],
   "source": [
    "from sklearn.ensemble import RandomForestClassifier\n",
    "\n",
    "# ==============================\n",
    "# 📌 STEP 1: Train Random Forest Classifier\n",
    "# ==============================\n",
    "\n",
    "# Initialize Random Forest model\n",
    "rf_model = RandomForestClassifier(n_estimators=100, max_depth=5, random_state=42)\n",
    "\n",
    "# Train the model\n",
    "rf_model.fit(X_train, y_train)\n",
    "\n",
    "# Make predictions\n",
    "y_pred_rf = rf_model.predict(X_test)\n",
    "\n",
    "# ==============================\n",
    "# 📌 STEP 2: Evaluate Random Forest Classifier\n",
    "# ==============================\n",
    "\n",
    "# Calculate accuracy\n",
    "accuracy_rf = accuracy_score(y_test, y_pred_rf)\n",
    "print(f\"Random Forest Accuracy: {accuracy_rf:.2f}\")\n",
    "\n",
    "# Classification report\n",
    "print(\"\\nClassification Report - Random Forest:\")\n",
    "print(classification_report(y_test, y_pred_rf))\n",
    "\n",
    "# Confusion matrix\n",
    "plt.figure(figsize=(6,4))\n",
    "sns.heatmap(confusion_matrix(y_test, y_pred_rf), annot=True, fmt='d', cmap='Greens', xticklabels=['Top', 'Mid', 'Bottom'], yticklabels=['Top', 'Mid', 'Bottom'])\n",
    "plt.xlabel(\"Predicted Class\")\n",
    "plt.ylabel(\"Actual Class\")\n",
    "plt.title(\"Confusion Matrix - Random Forest\")\n",
    "plt.show()\n",
    "\n",
    "# ==============================\n",
    "# 📌 STEP 3: Compare Logistic Regression vs Random Forest\n",
    "# ==============================\n",
    "\n",
    "print(f\"\\nModel Comparison:\\n\")\n",
    "print(f\"Logistic Regression Accuracy: {accuracy_log:.2f}\")\n",
    "print(f\"Random Forest Accuracy: {accuracy_rf:.2f}\")\n"
   ]
  },
  {
   "cell_type": "code",
   "execution_count": null,
   "id": "0bf50abb-8ee1-4a7d-bdaa-ad3448b7c367",
   "metadata": {},
   "outputs": [],
   "source": []
  }
 ],
 "metadata": {
  "kernelspec": {
   "display_name": "Python [conda env:base] *",
   "language": "python",
   "name": "conda-base-py"
  },
  "language_info": {
   "codemirror_mode": {
    "name": "ipython",
    "version": 3
   },
   "file_extension": ".py",
   "mimetype": "text/x-python",
   "name": "python",
   "nbconvert_exporter": "python",
   "pygments_lexer": "ipython3",
   "version": "3.12.7"
  }
 },
 "nbformat": 4,
 "nbformat_minor": 5
}
