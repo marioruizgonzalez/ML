{
 "cells": [
  {
   "cell_type": "code",
   "execution_count": 1,
   "id": "22f26f4f-f224-4815-a987-f13a55a54748",
   "metadata": {},
   "outputs": [],
   "source": [
    "import numpy as np "
   ]
  },
  {
   "cell_type": "code",
   "execution_count": 3,
   "id": "422e457b-f134-4cf3-a3e9-8dde636026c7",
   "metadata": {},
   "outputs": [],
   "source": [
    "vector_row = np.array([1,2,3])"
   ]
  },
  {
   "cell_type": "code",
   "execution_count": 7,
   "id": "9dcf991a-b10a-4a62-9bc0-29a336c10f00",
   "metadata": {},
   "outputs": [],
   "source": [
    "vector_column = np.array([[1],[2],[3]])"
   ]
  },
  {
   "cell_type": "code",
   "execution_count": 9,
   "id": "79cf307c-c597-4f32-81b8-13389f302682",
   "metadata": {},
   "outputs": [],
   "source": [
    "import numpy as np"
   ]
  },
  {
   "cell_type": "code",
   "execution_count": 15,
   "id": "575b057f-cab1-4524-936c-1b1c32c1e682",
   "metadata": {},
   "outputs": [],
   "source": [
    "matrix = np.array([[1,2],\n",
    "                  [1,3],\n",
    "                  [1,np.nan ]])"
   ]
  },
  {
   "cell_type": "code",
   "execution_count": 17,
   "id": "1bf1c090-6645-4e53-beab-f28d42e687d1",
   "metadata": {},
   "outputs": [
    {
     "data": {
      "text/plain": [
       "array([[ 1.,  2.],\n",
       "       [ 1.,  3.],\n",
       "       [ 1., nan]])"
      ]
     },
     "execution_count": 17,
     "metadata": {},
     "output_type": "execute_result"
    }
   ],
   "source": [
    "matrix"
   ]
  },
  {
   "cell_type": "code",
   "execution_count": 19,
   "id": "73dd110a-4461-4f0e-91a7-aac1ee1b409d",
   "metadata": {},
   "outputs": [],
   "source": [
    "import numpy as np\n",
    "from scipy import sparse "
   ]
  },
  {
   "cell_type": "code",
   "execution_count": 23,
   "id": "e900f276-5c97-4485-86fd-592508529278",
   "metadata": {},
   "outputs": [],
   "source": [
    "matrix = np.array([[0,0], [0,1], [3,0]])"
   ]
  },
  {
   "cell_type": "code",
   "execution_count": 27,
   "id": "e448ca4c-278c-4c8f-8f6b-01310c642830",
   "metadata": {},
   "outputs": [],
   "source": [
    "matrix_sparse = sparse.csr_matrix(matrix)"
   ]
  },
  {
   "cell_type": "code",
   "execution_count": 29,
   "id": "4ebb4fcd-3e1c-486e-9819-c240aa3fdb62",
   "metadata": {},
   "outputs": [
    {
     "data": {
      "text/plain": [
       "<3x2 sparse matrix of type '<class 'numpy.int32'>'\n",
       "\twith 2 stored elements in Compressed Sparse Row format>"
      ]
     },
     "execution_count": 29,
     "metadata": {},
     "output_type": "execute_result"
    }
   ],
   "source": [
    "matrix_sparse"
   ]
  },
  {
   "cell_type": "code",
   "execution_count": null,
   "id": "b63722df-26d6-4d50-bd1e-c5656117f885",
   "metadata": {},
   "outputs": [],
   "source": []
  }
 ],
 "metadata": {
  "kernelspec": {
   "display_name": "Python [conda env:base] *",
   "language": "python",
   "name": "conda-base-py"
  },
  "language_info": {
   "codemirror_mode": {
    "name": "ipython",
    "version": 3
   },
   "file_extension": ".py",
   "mimetype": "text/x-python",
   "name": "python",
   "nbconvert_exporter": "python",
   "pygments_lexer": "ipython3",
   "version": "3.12.7"
  }
 },
 "nbformat": 4,
 "nbformat_minor": 5
}
