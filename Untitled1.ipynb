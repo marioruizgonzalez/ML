{
 "cells": [
  {
   "cell_type": "code",
   "execution_count": 1,
   "id": "4b729dc8-25a7-487d-8c32-04f6ea4f840d",
   "metadata": {},
   "outputs": [],
   "source": [
    "import numpy as np"
   ]
  },
  {
   "cell_type": "code",
   "execution_count": 19,
   "id": "c670731e-0458-4695-b790-974c48c5b4b3",
   "metadata": {},
   "outputs": [
    {
     "name": "stdout",
     "output_type": "stream",
     "text": [
      "[1 2 3]\n"
     ]
    },
    {
     "data": {
      "text/plain": [
       "numpy.ndarray"
      ]
     },
     "execution_count": 19,
     "metadata": {},
     "output_type": "execute_result"
    }
   ],
   "source": [
    "vector_row = np.array([1, 2, 3])\n",
    "print(vector_row)\n",
    "type(vector_row)"
   ]
  },
  {
   "cell_type": "code",
   "execution_count": 21,
   "id": "c242e588-19d9-4ba1-91e7-4ef82b719b9b",
   "metadata": {},
   "outputs": [
    {
     "name": "stdout",
     "output_type": "stream",
     "text": [
      "[[1]\n",
      " [2]\n",
      " [3]]\n"
     ]
    },
    {
     "data": {
      "text/plain": [
       "numpy.ndarray"
      ]
     },
     "execution_count": 21,
     "metadata": {},
     "output_type": "execute_result"
    }
   ],
   "source": [
    "vector_column = np.array([[1],[2],[3]])\n",
    "print(vector_column)\n",
    "type(vector_column)"
   ]
  },
  {
   "cell_type": "code",
   "execution_count": 9,
   "id": "0cfb92ed-f6b3-480d-9aba-90b901e28b54",
   "metadata": {},
   "outputs": [
    {
     "name": "stdout",
     "output_type": "stream",
     "text": [
      "[[1 2]\n",
      " [3 4]\n",
      " [5 6]]\n"
     ]
    }
   ],
   "source": [
    "matrix = np.array([[1, 2], [3, 4], [5, 6]])\n",
    "print(matrix)"
   ]
  },
  {
   "cell_type": "code",
   "execution_count": 11,
   "id": "cf91e016-bffa-499a-8a18-4a8365ed9f5c",
   "metadata": {},
   "outputs": [],
   "source": [
    "from scipy import sparse"
   ]
  },
  {
   "cell_type": "code",
   "execution_count": 13,
   "id": "39051e49-208a-4c6f-a5a4-04b93a347945",
   "metadata": {},
   "outputs": [],
   "source": [
    "matrix = np.array([[1, 0],[0, 0,],[1, 0]])"
   ]
  },
  {
   "cell_type": "code",
   "execution_count": 15,
   "id": "bd345b9f-22d3-4133-81f4-03c9e4f38b03",
   "metadata": {},
   "outputs": [],
   "source": [
    "matrix_sparse = sparse.csr_matrix(matrix)"
   ]
  },
  {
   "cell_type": "code",
   "execution_count": 23,
   "id": "8c39919e-455e-4f4c-bf6d-262b1d1ba46e",
   "metadata": {},
   "outputs": [
    {
     "name": "stdout",
     "output_type": "stream",
     "text": [
      "  (0, 0)\t1\n",
      "  (2, 0)\t1\n"
     ]
    }
   ],
   "source": [
    "type(matrix_sparse)\n",
    "print(matrix_sparse)"
   ]
  },
  {
   "cell_type": "code",
   "execution_count": 25,
   "id": "92d633be-f2f0-47b8-adfa-1563c2bbe45e",
   "metadata": {},
   "outputs": [],
   "source": [
    "matrix_large = np.array([[0, 0, 0, 0, 0, 0, 0, 0, 0, 0],\n",
    "[0, 1, 0, 0, 0, 0, 0, 0, 0, 0],\n",
    "[3, 0, 0, 0, 0, 0, 0, 0, 0, 0]])"
   ]
  },
  {
   "cell_type": "code",
   "execution_count": 27,
   "id": "fac3811a-2677-4caf-90eb-696b9a113df6",
   "metadata": {},
   "outputs": [],
   "source": [
    "matrix_large_sparse = sparse.csr_matrix(matrix_large)\n"
   ]
  },
  {
   "cell_type": "code",
   "execution_count": 29,
   "id": "f121980c-a822-4af8-83c9-72814eaf6c30",
   "metadata": {},
   "outputs": [
    {
     "name": "stdout",
     "output_type": "stream",
     "text": [
      "  (0, 0)\t1\n",
      "  (2, 0)\t1\n"
     ]
    }
   ],
   "source": [
    "print(matrix_sparse)\n"
   ]
  },
  {
   "cell_type": "code",
   "execution_count": 31,
   "id": "abfcf65b-ba2b-4567-ada0-6ca189a7b9bc",
   "metadata": {},
   "outputs": [
    {
     "name": "stdout",
     "output_type": "stream",
     "text": [
      "  (1, 1)\t1\n",
      "  (2, 0)\t3\n"
     ]
    }
   ],
   "source": [
    "print(matrix_large_sparse)"
   ]
  },
  {
   "cell_type": "code",
   "execution_count": 33,
   "id": "a8f1f259-7b98-4446-a81f-776042b39dba",
   "metadata": {},
   "outputs": [],
   "source": [
    "vector = np.array([1,2,2,3,4,5,6])"
   ]
  },
  {
   "cell_type": "code",
   "execution_count": 35,
   "id": "0fd2a4df-7d21-4102-b2ae-a340c71de2d1",
   "metadata": {},
   "outputs": [
    {
     "data": {
      "text/plain": [
       "1"
      ]
     },
     "execution_count": 35,
     "metadata": {},
     "output_type": "execute_result"
    }
   ],
   "source": [
    "vector[0]"
   ]
  },
  {
   "cell_type": "code",
   "execution_count": 37,
   "id": "9d0fabab-f5fb-4089-bf49-95e3eeca3459",
   "metadata": {},
   "outputs": [],
   "source": [
    "matrix = np.array([[1, 2, 3],\n",
    "[4, 5, 6],\n",
    "[7, 8, 9]])\n"
   ]
  },
  {
   "cell_type": "code",
   "execution_count": 45,
   "id": "5b5ef96e-16eb-4927-86cb-163a8c1705c4",
   "metadata": {},
   "outputs": [
    {
     "data": {
      "text/plain": [
       "5"
      ]
     },
     "execution_count": 45,
     "metadata": {},
     "output_type": "execute_result"
    }
   ],
   "source": [
    "matrix[1,1]"
   ]
  },
  {
   "cell_type": "code",
   "execution_count": 47,
   "id": "0d72ea0a-248f-4ce7-b6d7-17ebad9cfeed",
   "metadata": {},
   "outputs": [
    {
     "data": {
      "text/plain": [
       "array([1, 2, 2, 3, 4, 5, 6])"
      ]
     },
     "execution_count": 47,
     "metadata": {},
     "output_type": "execute_result"
    }
   ],
   "source": [
    "vector[:]"
   ]
  },
  {
   "cell_type": "code",
   "execution_count": 49,
   "id": "2fed13a4-8f81-4c7e-9fa7-1754c44eee18",
   "metadata": {},
   "outputs": [
    {
     "data": {
      "text/plain": [
       "array([1, 2, 2])"
      ]
     },
     "execution_count": 49,
     "metadata": {},
     "output_type": "execute_result"
    }
   ],
   "source": [
    "vector[:3]"
   ]
  },
  {
   "cell_type": "raw",
   "id": "a469205f-ee2f-4c7d-92a6-a8ed91f83b42",
   "metadata": {},
   "source": [
    "vector[3:]"
   ]
  },
  {
   "cell_type": "code",
   "execution_count": 51,
   "id": "9aaf694a-283e-42bf-8428-7329acee0422",
   "metadata": {},
   "outputs": [
    {
     "data": {
      "text/plain": [
       "6"
      ]
     },
     "execution_count": 51,
     "metadata": {},
     "output_type": "execute_result"
    }
   ],
   "source": [
    "vector[-1]"
   ]
  },
  {
   "cell_type": "code",
   "execution_count": 55,
   "id": "38592668-1b04-4488-b82e-00e7c8750396",
   "metadata": {},
   "outputs": [
    {
     "data": {
      "text/plain": [
       "array([[1, 2, 3],\n",
       "       [4, 5, 6]])"
      ]
     },
     "execution_count": 55,
     "metadata": {},
     "output_type": "execute_result"
    }
   ],
   "source": [
    "matrix[:2,:]"
   ]
  },
  {
   "cell_type": "code",
   "execution_count": 57,
   "id": "5732a9de-c3c6-4948-bb13-78d3d76ccf4c",
   "metadata": {},
   "outputs": [
    {
     "data": {
      "text/plain": [
       "array([[2],\n",
       "       [5],\n",
       "       [8]])"
      ]
     },
     "execution_count": 57,
     "metadata": {},
     "output_type": "execute_result"
    }
   ],
   "source": [
    "matrix[:,1:2]"
   ]
  },
  {
   "cell_type": "code",
   "execution_count": 65,
   "id": "9001d729-25af-476a-b459-fe8dcf940b30",
   "metadata": {},
   "outputs": [
    {
     "data": {
      "text/plain": [
       "(3, 3)"
      ]
     },
     "execution_count": 65,
     "metadata": {},
     "output_type": "execute_result"
    }
   ],
   "source": [
    "matrix.shape\n"
   ]
  },
  {
   "cell_type": "code",
   "execution_count": 67,
   "id": "e655c222-0f92-46d2-b234-6b5d43c1eac4",
   "metadata": {},
   "outputs": [
    {
     "data": {
      "text/plain": [
       "2"
      ]
     },
     "execution_count": 67,
     "metadata": {},
     "output_type": "execute_result"
    }
   ],
   "source": [
    "matrix.ndim\n"
   ]
  },
  {
   "cell_type": "code",
   "execution_count": 69,
   "id": "ce3ef402-2357-4039-b6f5-6c182e2606cb",
   "metadata": {},
   "outputs": [
    {
     "data": {
      "text/plain": [
       "9"
      ]
     },
     "execution_count": 69,
     "metadata": {},
     "output_type": "execute_result"
    }
   ],
   "source": [
    "matrix.size"
   ]
  },
  {
   "cell_type": "code",
   "execution_count": 71,
   "id": "ee0a8bd5-966d-4daf-84c6-9f00b4b7d9d1",
   "metadata": {},
   "outputs": [],
   "source": [
    "matrix = np.array([[1, 2, 3],\n",
    "[4, 5, 6],\n",
    "[7, 8, 9]])"
   ]
  },
  {
   "cell_type": "code",
   "execution_count": 73,
   "id": "3ae710f9-9dd0-40d4-9df6-9dd7c30125a0",
   "metadata": {},
   "outputs": [],
   "source": [
    "add_100 = lambda i: i + 100"
   ]
  },
  {
   "cell_type": "code",
   "execution_count": 75,
   "id": "716645ad-d5fb-4591-af0c-d1bdefcc45f9",
   "metadata": {},
   "outputs": [
    {
     "name": "stdout",
     "output_type": "stream",
     "text": [
      "<function <lambda> at 0x00000229B48223E0>\n"
     ]
    }
   ],
   "source": [
    "print(add_100)"
   ]
  },
  {
   "cell_type": "code",
   "execution_count": 79,
   "id": "2f56091b-eec2-4cb6-ac9f-7f6aafabd92f",
   "metadata": {},
   "outputs": [],
   "source": [
    "vectorized_add_100 = np.vectorize(add_100)"
   ]
  },
  {
   "cell_type": "code",
   "execution_count": 81,
   "id": "2d783675-4912-42c5-a43f-dccd01b39501",
   "metadata": {},
   "outputs": [
    {
     "data": {
      "text/plain": [
       "numpy.vectorize"
      ]
     },
     "execution_count": 81,
     "metadata": {},
     "output_type": "execute_result"
    }
   ],
   "source": [
    "type(vectorized_add_100)"
   ]
  },
  {
   "cell_type": "code",
   "execution_count": 83,
   "id": "e3a1529d-0b5e-4c21-94bc-d9ebc90c6bab",
   "metadata": {},
   "outputs": [
    {
     "name": "stdout",
     "output_type": "stream",
     "text": [
      "<numpy.vectorize object at 0x00000229B46D7950>\n"
     ]
    }
   ],
   "source": [
    "print(vectorized_add_100)"
   ]
  },
  {
   "cell_type": "code",
   "execution_count": 87,
   "id": "b6e9a7ec-7a74-44b1-956f-68ed5aaa2b6f",
   "metadata": {},
   "outputs": [
    {
     "name": "stdout",
     "output_type": "stream",
     "text": [
      "[[101 102 103]\n",
      " [104 105 106]\n",
      " [107 108 109]]\n"
     ]
    }
   ],
   "source": [
    "print(vectorized_add_100(matrix))"
   ]
  },
  {
   "cell_type": "code",
   "execution_count": 91,
   "id": "0287e088-32e9-41bf-b563-ad652d1a3cd6",
   "metadata": {},
   "outputs": [
    {
     "data": {
      "text/plain": [
       "array([[101, 102, 103],\n",
       "       [104, 105, 106],\n",
       "       [107, 108, 109]])"
      ]
     },
     "execution_count": 91,
     "metadata": {},
     "output_type": "execute_result"
    }
   ],
   "source": [
    "\n",
    "matrix + 100\n",
    "\n"
   ]
  },
  {
   "cell_type": "code",
   "execution_count": 93,
   "id": "5c9a39d7-2ab8-493a-b099-9001692b47bc",
   "metadata": {},
   "outputs": [
    {
     "data": {
      "text/plain": [
       "9"
      ]
     },
     "execution_count": 93,
     "metadata": {},
     "output_type": "execute_result"
    }
   ],
   "source": [
    "np.max(matrix)"
   ]
  },
  {
   "cell_type": "code",
   "execution_count": 95,
   "id": "0cd4cd84-7f68-4273-b21f-17aa12eb4314",
   "metadata": {},
   "outputs": [
    {
     "data": {
      "text/plain": [
       "1"
      ]
     },
     "execution_count": 95,
     "metadata": {},
     "output_type": "execute_result"
    }
   ],
   "source": [
    "np.min(matrix)"
   ]
  },
  {
   "cell_type": "code",
   "execution_count": 97,
   "id": "3ef66d54-79fb-4921-8a1e-c61bb8e2132a",
   "metadata": {},
   "outputs": [
    {
     "data": {
      "text/plain": [
       "5.0"
      ]
     },
     "execution_count": 97,
     "metadata": {},
     "output_type": "execute_result"
    }
   ],
   "source": [
    "np.mean(matrix)"
   ]
  },
  {
   "cell_type": "code",
   "execution_count": 99,
   "id": "41c63644-5bfe-44d4-8f7a-d35f738cc207",
   "metadata": {},
   "outputs": [
    {
     "data": {
      "text/plain": [
       "2.581988897471611"
      ]
     },
     "execution_count": 99,
     "metadata": {},
     "output_type": "execute_result"
    }
   ],
   "source": [
    "np.std(matrix)"
   ]
  },
  {
   "cell_type": "code",
   "execution_count": 101,
   "id": "d9318760-5437-4c8b-92c2-79383541e988",
   "metadata": {},
   "outputs": [
    {
     "data": {
      "text/plain": [
       "6.666666666666667"
      ]
     },
     "execution_count": 101,
     "metadata": {},
     "output_type": "execute_result"
    }
   ],
   "source": [
    "np.var(matrix)"
   ]
  },
  {
   "cell_type": "code",
   "execution_count": 103,
   "id": "096e78ef-15c2-497a-8503-e708c21c7595",
   "metadata": {},
   "outputs": [],
   "source": [
    "matrix = np.array([[1, 2, 3],\n",
    "[4, 5, 6],\n",
    "[7, 8, 9],\n",
    "[10, 11, 12]])\n"
   ]
  },
  {
   "cell_type": "code",
   "execution_count": 105,
   "id": "dd93d5f3-81fa-4fa6-97f6-b4ea1766c601",
   "metadata": {},
   "outputs": [
    {
     "data": {
      "text/plain": [
       "array([[ 1,  2,  3,  4,  5,  6],\n",
       "       [ 7,  8,  9, 10, 11, 12]])"
      ]
     },
     "execution_count": 105,
     "metadata": {},
     "output_type": "execute_result"
    }
   ],
   "source": [
    "matrix.reshape(2, 6)"
   ]
  },
  {
   "cell_type": "code",
   "execution_count": 107,
   "id": "2b1a775f-bf2c-4d88-8d79-fd89fdd053e3",
   "metadata": {},
   "outputs": [
    {
     "data": {
      "text/plain": [
       "12"
      ]
     },
     "execution_count": 107,
     "metadata": {},
     "output_type": "execute_result"
    }
   ],
   "source": [
    "matrix.size"
   ]
  },
  {
   "cell_type": "code",
   "execution_count": 109,
   "id": "d391a6b3-cce0-4172-8eaf-85a4894787d5",
   "metadata": {},
   "outputs": [],
   "source": [
    "matrix = np.array([[1, 2, 3],\n",
    "[4, 5, 6],\n",
    "[7, 8, 9]])\n"
   ]
  },
  {
   "cell_type": "code",
   "execution_count": 111,
   "id": "76a0ffee-95d0-4ace-ba36-5e1907966e26",
   "metadata": {},
   "outputs": [
    {
     "data": {
      "text/plain": [
       "array([1, 2, 3, 4, 5, 6])"
      ]
     },
     "execution_count": 111,
     "metadata": {},
     "output_type": "execute_result"
    }
   ],
   "source": [
    "np.array([1, 2, 3, 4, 5, 6]).T"
   ]
  },
  {
   "cell_type": "code",
   "execution_count": 113,
   "id": "faac8394-eb30-47cd-8da0-b8bf5595d143",
   "metadata": {},
   "outputs": [
    {
     "data": {
      "text/plain": [
       "array([[1],\n",
       "       [2],\n",
       "       [3],\n",
       "       [4],\n",
       "       [5],\n",
       "       [6]])"
      ]
     },
     "execution_count": 113,
     "metadata": {},
     "output_type": "execute_result"
    }
   ],
   "source": [
    "np.array([[1, 2, 3, 4, 5, 6]]).T"
   ]
  },
  {
   "cell_type": "code",
   "execution_count": 115,
   "id": "801a84b1-b8cc-4483-a7e8-5ffae2d54afe",
   "metadata": {},
   "outputs": [],
   "source": [
    "matrix = np.array([[1, 2, 3],\n",
    "[4, 5, 6],\n",
    "[7, 8, 9]])"
   ]
  },
  {
   "cell_type": "code",
   "execution_count": 117,
   "id": "3a6f4387-c9f0-481d-a20a-262d48666a28",
   "metadata": {},
   "outputs": [
    {
     "data": {
      "text/plain": [
       "array([1, 2, 3, 4, 5, 6, 7, 8, 9])"
      ]
     },
     "execution_count": 117,
     "metadata": {},
     "output_type": "execute_result"
    }
   ],
   "source": [
    "matrix.flatten()"
   ]
  },
  {
   "cell_type": "code",
   "execution_count": 119,
   "id": "e3efeeb0-072f-428c-9210-91ffd7efde90",
   "metadata": {},
   "outputs": [
    {
     "data": {
      "text/plain": [
       "array([[1, 2, 3, 4, 5, 6, 7, 8, 9]])"
      ]
     },
     "execution_count": 119,
     "metadata": {},
     "output_type": "execute_result"
    }
   ],
   "source": [
    "matrix.reshape(1,-1)"
   ]
  },
  {
   "cell_type": "code",
   "execution_count": 121,
   "id": "f3e9c616-1d54-4a55-9b9b-40a45d502cea",
   "metadata": {},
   "outputs": [
    {
     "data": {
      "text/plain": [
       "2"
      ]
     },
     "execution_count": 121,
     "metadata": {},
     "output_type": "execute_result"
    }
   ],
   "source": [
    "np.linalg.matrix_rank(matrix)"
   ]
  },
  {
   "cell_type": "code",
   "execution_count": 123,
   "id": "1efbfcc6-1e66-4ab7-b4c0-124b00c70768",
   "metadata": {},
   "outputs": [
    {
     "data": {
      "text/plain": [
       "6.66133814775094e-16"
      ]
     },
     "execution_count": 123,
     "metadata": {},
     "output_type": "execute_result"
    }
   ],
   "source": [
    "np.linalg.det(matrix)"
   ]
  },
  {
   "cell_type": "code",
   "execution_count": 125,
   "id": "2e8d6d9d-718f-4594-bb21-5618b177bf3b",
   "metadata": {},
   "outputs": [
    {
     "data": {
      "text/plain": [
       "array([1, 5, 9])"
      ]
     },
     "execution_count": 125,
     "metadata": {},
     "output_type": "execute_result"
    }
   ],
   "source": [
    "matrix.diagonal()"
   ]
  },
  {
   "cell_type": "code",
   "execution_count": 127,
   "id": "54a3e1fe-c765-4d5b-834b-ab8adeb297d3",
   "metadata": {},
   "outputs": [
    {
     "data": {
      "text/plain": [
       "15"
      ]
     },
     "execution_count": 127,
     "metadata": {},
     "output_type": "execute_result"
    }
   ],
   "source": [
    "matrix.trace()"
   ]
  },
  {
   "cell_type": "code",
   "execution_count": 129,
   "id": "ce0082f4-6192-4c7e-9e10-c75f666b3c3d",
   "metadata": {},
   "outputs": [
    {
     "data": {
      "text/plain": [
       "15"
      ]
     },
     "execution_count": 129,
     "metadata": {},
     "output_type": "execute_result"
    }
   ],
   "source": [
    "sum(matrix.diagonal())\n"
   ]
  },
  {
   "cell_type": "code",
   "execution_count": 131,
   "id": "34b5c1a1-c991-4f84-a8aa-7bd6744c7760",
   "metadata": {},
   "outputs": [
    {
     "data": {
      "text/plain": [
       "32"
      ]
     },
     "execution_count": 131,
     "metadata": {},
     "output_type": "execute_result"
    }
   ],
   "source": [
    "vector_a = np.array([1,2,3])\n",
    "vector_b = np.array([4,5,6])\n",
    "np.dot(vector_a, vector_b)"
   ]
  },
  {
   "cell_type": "code",
   "execution_count": 133,
   "id": "71c74a77-4127-40a5-8f52-9abd09b227e0",
   "metadata": {},
   "outputs": [
    {
     "data": {
      "text/plain": [
       "array([5, 7, 9])"
      ]
     },
     "execution_count": 133,
     "metadata": {},
     "output_type": "execute_result"
    }
   ],
   "source": [
    "np.add(vector_a, vector_b)"
   ]
  },
  {
   "cell_type": "code",
   "execution_count": 137,
   "id": "26fcd350-b8d2-4147-bb35-5ddef1d06901",
   "metadata": {},
   "outputs": [
    {
     "data": {
      "text/plain": [
       "array([-3, -3, -3])"
      ]
     },
     "execution_count": 137,
     "metadata": {},
     "output_type": "execute_result"
    }
   ],
   "source": [
    "np.subtract(vector_a, vector_b)"
   ]
  },
  {
   "cell_type": "code",
   "execution_count": 139,
   "id": "e541b2f8-d9d0-4fa8-aed3-66fd28bf601f",
   "metadata": {},
   "outputs": [],
   "source": [
    "matrix_a = np.array([[1, 1],\n",
    "[1, 2]])\n",
    "# Create matrix\n",
    "matrix_b = np.array([[1, 3],\n",
    "[1, 2]])\n"
   ]
  },
  {
   "cell_type": "code",
   "execution_count": 141,
   "id": "9ce8a42a-ff74-4566-834c-53cf81ecbf2c",
   "metadata": {},
   "outputs": [
    {
     "data": {
      "text/plain": [
       "array([[2, 5],\n",
       "       [3, 7]])"
      ]
     },
     "execution_count": 141,
     "metadata": {},
     "output_type": "execute_result"
    }
   ],
   "source": [
    "np.dot(matrix_a, matrix_b)\n"
   ]
  },
  {
   "cell_type": "code",
   "execution_count": 143,
   "id": "37d48d5a-5a17-46c5-8896-7c78ce71d02e",
   "metadata": {},
   "outputs": [],
   "source": [
    "matrix = np.array([[1, 4],\n",
    "[2, 5]])"
   ]
  },
  {
   "cell_type": "code",
   "execution_count": 147,
   "id": "ee41c9f4-f49e-4832-b850-ae7707208675",
   "metadata": {},
   "outputs": [
    {
     "data": {
      "text/plain": [
       "array([[-1.66666667,  1.33333333],\n",
       "       [ 0.66666667, -0.33333333]])"
      ]
     },
     "execution_count": 147,
     "metadata": {},
     "output_type": "execute_result"
    }
   ],
   "source": [
    "np.linalg.inv(matrix)"
   ]
  },
  {
   "cell_type": "code",
   "execution_count": 153,
   "id": "c7f273f8-f061-41e7-accc-b0bdcd19ffc1",
   "metadata": {},
   "outputs": [
    {
     "data": {
      "text/plain": [
       "array([0.5488135 , 0.71518937, 0.60276338])"
      ]
     },
     "execution_count": 153,
     "metadata": {},
     "output_type": "execute_result"
    }
   ],
   "source": [
    "np.random.seed(0)\n",
    "np.random.random(3)"
   ]
  },
  {
   "cell_type": "code",
   "execution_count": 163,
   "id": "7e6119f5-f93b-4e80-bd18-2ede7a917012",
   "metadata": {},
   "outputs": [
    {
     "data": {
      "text/plain": [
       "array([12,  1])"
      ]
     },
     "execution_count": 163,
     "metadata": {},
     "output_type": "execute_result"
    }
   ],
   "source": [
    "np.random.randint(0,20,2)"
   ]
  },
  {
   "cell_type": "code",
   "execution_count": 165,
   "id": "0fdbf24f-ed0f-4fe9-afc7-365690c5ef33",
   "metadata": {},
   "outputs": [
    {
     "data": {
      "text/plain": [
       "array([0.14404357, 1.45427351, 0.76103773])"
      ]
     },
     "execution_count": 165,
     "metadata": {},
     "output_type": "execute_result"
    }
   ],
   "source": [
    "np.random.normal(0.0, 1.0, 3)"
   ]
  },
  {
   "cell_type": "code",
   "execution_count": 167,
   "id": "5cd4f7b0-f5d4-4610-9a52-0c7ae4e004e8",
   "metadata": {},
   "outputs": [
    {
     "data": {
      "text/plain": [
       "array([-2.57088231, -2.34920103, -3.88073674])"
      ]
     },
     "execution_count": 167,
     "metadata": {},
     "output_type": "execute_result"
    }
   ],
   "source": [
    "np.random.logistic(0.0, 1.0, 3)"
   ]
  },
  {
   "cell_type": "code",
   "execution_count": 169,
   "id": "07476dff-66b6-49d3-bda1-8ade298e285c",
   "metadata": {},
   "outputs": [
    {
     "data": {
      "text/plain": [
       "array([1.83261985, 1.77815675, 1.87001215])"
      ]
     },
     "execution_count": 169,
     "metadata": {},
     "output_type": "execute_result"
    }
   ],
   "source": [
    "np.random.uniform(1.0, 2.0, 3)"
   ]
  },
  {
   "cell_type": "code",
   "execution_count": null,
   "id": "769f769c-34fe-40b5-8cac-7a48fdf48f05",
   "metadata": {},
   "outputs": [],
   "source": []
  }
 ],
 "metadata": {
  "kernelspec": {
   "display_name": "Python [conda env:base] *",
   "language": "python",
   "name": "conda-base-py"
  },
  "language_info": {
   "codemirror_mode": {
    "name": "ipython",
    "version": 3
   },
   "file_extension": ".py",
   "mimetype": "text/x-python",
   "name": "python",
   "nbconvert_exporter": "python",
   "pygments_lexer": "ipython3",
   "version": "3.12.7"
  }
 },
 "nbformat": 4,
 "nbformat_minor": 5
}
