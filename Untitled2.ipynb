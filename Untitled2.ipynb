{
 "cells": [
  {
   "cell_type": "code",
   "execution_count": 2,
   "id": "a55b52d7-7fd5-41b6-a847-31811acddfae",
   "metadata": {},
   "outputs": [],
   "source": [
    "from sklearn import datasets"
   ]
  },
  {
   "cell_type": "code",
   "execution_count": 4,
   "id": "80a1fefc-c46f-4d0c-ba01-fbe1070a71d1",
   "metadata": {},
   "outputs": [],
   "source": [
    "digits = datasets.load_digits()"
   ]
  },
  {
   "cell_type": "code",
   "execution_count": 20,
   "id": "b23ff455-a519-4950-8b49-0e83dc1da70f",
   "metadata": {},
   "outputs": [
    {
     "data": {
      "text/plain": [
       "sklearn.utils._bunch.Bunch"
      ]
     },
     "execution_count": 20,
     "metadata": {},
     "output_type": "execute_result"
    }
   ],
   "source": [
    "type(digits)"
   ]
  },
  {
   "cell_type": "code",
   "execution_count": 22,
   "id": "b5006b04-f123-4f8c-9048-658df8d4187c",
   "metadata": {},
   "outputs": [],
   "source": [
    "target = digits.target"
   ]
  },
  {
   "cell_type": "code",
   "execution_count": 28,
   "id": "2af99b38-2362-4d1e-8ef2-01297b1e2895",
   "metadata": {},
   "outputs": [],
   "source": [
    "features = digits.data"
   ]
  },
  {
   "cell_type": "code",
   "execution_count": 30,
   "id": "e19daa54-7c67-4852-8484-88bbc10bcbf3",
   "metadata": {},
   "outputs": [
    {
     "data": {
      "text/plain": [
       "array([ 0.,  0.,  5., 13.,  9.,  1.,  0.,  0.,  0.,  0., 13., 15., 10.,\n",
       "       15.,  5.,  0.,  0.,  3., 15.,  2.,  0., 11.,  8.,  0.,  0.,  4.,\n",
       "       12.,  0.,  0.,  8.,  8.,  0.,  0.,  5.,  8.,  0.,  0.,  9.,  8.,\n",
       "        0.,  0.,  4., 11.,  0.,  1., 12.,  7.,  0.,  0.,  2., 14.,  5.,\n",
       "       10., 12.,  0.,  0.,  0.,  0.,  6., 13., 10.,  0.,  0.,  0.])"
      ]
     },
     "execution_count": 30,
     "metadata": {},
     "output_type": "execute_result"
    }
   ],
   "source": [
    "features[0]"
   ]
  },
  {
   "cell_type": "code",
   "execution_count": 32,
   "id": "74dccda2-8a85-4179-aa58-8690c16e3819",
   "metadata": {},
   "outputs": [],
   "source": [
    "from sklearn.datasets import make_regression"
   ]
  },
  {
   "cell_type": "code",
   "execution_count": 34,
   "id": "55734ced-4704-4c3f-ac6c-bf1737c826f5",
   "metadata": {},
   "outputs": [],
   "source": [
    "features, targets, coefficients = make_regression(\n",
    "    n_samples = 100,\n",
    "    n_features = 3, \n",
    "    n_informative = 3,\n",
    "    n_targets = 1,\n",
    "    noise = 0.0,\n",
    "    coef = True,\n",
    "    random_state = 1\n",
    ")"
   ]
  },
  {
   "cell_type": "code",
   "execution_count": 36,
   "id": "2a645235-3f60-47de-888c-5fee6fb8f192",
   "metadata": {},
   "outputs": [
    {
     "name": "stdout",
     "output_type": "stream",
     "text": [
      "Features Matrix  [[ 1.29322588 -0.61736206 -0.11044703]\n",
      " [-2.793085    0.36633201  1.93752881]\n",
      " [ 0.80186103 -0.18656977  0.0465673 ]]\n",
      "Target Vector  [0 1 2]\n"
     ]
    }
   ],
   "source": [
    "print('Features Matrix ', features[:3])\n",
    "print('Target Vector ', target[:3])"
   ]
  },
  {
   "cell_type": "code",
   "execution_count": 38,
   "id": "1f696b96-ad00-42e5-b426-3421fd1157a0",
   "metadata": {},
   "outputs": [
    {
     "name": "stdout",
     "output_type": "stream",
     "text": [
      "Feature Matrix\n",
      " [[ -1.22685609   3.25572052]\n",
      " [ -9.57463218  -4.38310652]\n",
      " [-10.71976941  -4.20558148]]\n",
      "Target Vector\n",
      " [0 1 1]\n"
     ]
    }
   ],
   "source": [
    "# Load library\n",
    "from sklearn.datasets import make_blobs\n",
    "# Generate feature matrix and target vector\n",
    "features, target = make_blobs(n_samples = 100,\n",
    "n_features = 2,\n",
    "centers = 3,\n",
    "cluster_std = 0.5,\n",
    "shuffle = True,\n",
    "random_state = 1)\n",
    "# View feature matrix and target vector\n",
    "print('Feature Matrix\\n', features[:3])\n",
    "print('Target Vector\\n', target[:3])\n"
   ]
  },
  {
   "cell_type": "code",
   "execution_count": null,
   "id": "777881f5-8f3f-473a-abd2-8adf53dac12c",
   "metadata": {},
   "outputs": [],
   "source": []
  }
 ],
 "metadata": {
  "kernelspec": {
   "display_name": "Python [conda env:base] *",
   "language": "python",
   "name": "conda-base-py"
  },
  "language_info": {
   "codemirror_mode": {
    "name": "ipython",
    "version": 3
   },
   "file_extension": ".py",
   "mimetype": "text/x-python",
   "name": "python",
   "nbconvert_exporter": "python",
   "pygments_lexer": "ipython3",
   "version": "3.12.7"
  }
 },
 "nbformat": 4,
 "nbformat_minor": 5
}
