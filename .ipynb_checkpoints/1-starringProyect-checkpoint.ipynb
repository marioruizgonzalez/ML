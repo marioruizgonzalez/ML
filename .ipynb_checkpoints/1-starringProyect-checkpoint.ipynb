{
 "cells": [
  {
   "cell_type": "code",
   "execution_count": 3,
   "id": "8aaf2871-944a-43e6-bc70-84c85d0e4bdb",
   "metadata": {},
   "outputs": [],
   "source": [
    "import pandas as pd \n",
    "housing = pd.read_csv(r\"C:\\Users\\ShePlay\\Documents\\GitHub\\ML\\handson-ml2-master\\handson-ml2-master\\datasets\\housing\\housing.csv\")"
   ]
  },
  {
   "cell_type": "code",
   "execution_count": null,
   "id": "741cbeaa-730e-4449-947a-bd39b76253ca",
   "metadata": {},
   "outputs": [],
   "source": []
  }
 ],
 "metadata": {
  "kernelspec": {
   "display_name": "Python 3 (ipykernel)",
   "language": "python",
   "name": "python3"
  },
  "language_info": {
   "codemirror_mode": {
    "name": "ipython",
    "version": 3
   },
   "file_extension": ".py",
   "mimetype": "text/x-python",
   "name": "python",
   "nbconvert_exporter": "python",
   "pygments_lexer": "ipython3",
   "version": "3.12.7"
  }
 },
 "nbformat": 4,
 "nbformat_minor": 5
}
